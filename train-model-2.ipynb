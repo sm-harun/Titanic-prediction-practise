{
 "cells": [
  {
   "cell_type": "code",
   "execution_count": 1,
   "id": "bba74c04",
   "metadata": {
    "_cell_guid": "b1076dfc-b9ad-4769-8c92-a6c4dae69d19",
    "_uuid": "8f2839f25d086af736a60e9eeb907d3b93b6e0e5",
    "execution": {
     "iopub.execute_input": "2024-05-05T18:57:51.855833Z",
     "iopub.status.busy": "2024-05-05T18:57:51.855379Z",
     "iopub.status.idle": "2024-05-05T18:58:07.790287Z",
     "shell.execute_reply": "2024-05-05T18:58:07.788863Z"
    },
    "papermill": {
     "duration": 15.944271,
     "end_time": "2024-05-05T18:58:07.794170",
     "exception": false,
     "start_time": "2024-05-05T18:57:51.849899",
     "status": "completed"
    },
    "tags": []
   },
   "outputs": [
    {
     "name": "stderr",
     "output_type": "stream",
     "text": [
      "2024-05-05 18:57:55.024340: E external/local_xla/xla/stream_executor/cuda/cuda_dnn.cc:9261] Unable to register cuDNN factory: Attempting to register factory for plugin cuDNN when one has already been registered\n",
      "2024-05-05 18:57:55.024488: E external/local_xla/xla/stream_executor/cuda/cuda_fft.cc:607] Unable to register cuFFT factory: Attempting to register factory for plugin cuFFT when one has already been registered\n",
      "2024-05-05 18:57:55.172404: E external/local_xla/xla/stream_executor/cuda/cuda_blas.cc:1515] Unable to register cuBLAS factory: Attempting to register factory for plugin cuBLAS when one has already been registered\n"
     ]
    }
   ],
   "source": [
    "import numpy as np\n",
    "import pandas as pd\n",
    "import tensorflow as tf"
   ]
  },
  {
   "cell_type": "code",
   "execution_count": 2,
   "id": "112ac15f",
   "metadata": {
    "execution": {
     "iopub.execute_input": "2024-05-05T18:58:07.804524Z",
     "iopub.status.busy": "2024-05-05T18:58:07.803359Z",
     "iopub.status.idle": "2024-05-05T18:58:07.858049Z",
     "shell.execute_reply": "2024-05-05T18:58:07.856890Z"
    },
    "papermill": {
     "duration": 0.062884,
     "end_time": "2024-05-05T18:58:07.860970",
     "exception": false,
     "start_time": "2024-05-05T18:58:07.798086",
     "status": "completed"
    },
    "tags": []
   },
   "outputs": [],
   "source": [
    "train_df = pd.read_csv(\"/kaggle/input/smtitanic/train.csv\")\n",
    "test_df = pd.read_csv(\"/kaggle/input/smtitanic/test.csv\")\n",
    "\n",
    "# Dropping null values from the dataset.\n",
    "train_df.dropna(subset = [\"Age\"], inplace = True)\n",
    "test_df.dropna(subset = [\"Age\"], inplace = True)\n",
    "\n",
    "# All out training data\n",
    "train_x_age = train_df[\"Age\"]\n",
    "train_x_gender = train_df[\"Sex\"].map({ \"male\": 1, \"female\": 2})\n",
    "train_x_class = train_df[\"Pclass\"]\n",
    "\n",
    "train_y = train_df[\"Survived\"]"
   ]
  },
  {
   "cell_type": "code",
   "execution_count": 3,
   "id": "8bc9e37b",
   "metadata": {
    "execution": {
     "iopub.execute_input": "2024-05-05T18:58:07.869512Z",
     "iopub.status.busy": "2024-05-05T18:58:07.869038Z",
     "iopub.status.idle": "2024-05-05T18:58:07.878134Z",
     "shell.execute_reply": "2024-05-05T18:58:07.876879Z"
    },
    "papermill": {
     "duration": 0.01635,
     "end_time": "2024-05-05T18:58:07.880721",
     "exception": false,
     "start_time": "2024-05-05T18:58:07.864371",
     "status": "completed"
    },
    "tags": []
   },
   "outputs": [],
   "source": [
    "def build_model(lr):\n",
    "    \n",
    "    # This is were the model is declared and all the layers.\n",
    "    model = tf.keras.Sequential([\n",
    "        tf.keras.layers.Input(shape=(1,)),\n",
    "        tf.keras.layers.Dense(6, activation=\"relu\"),\n",
    "        tf.keras.layers.Dense(1, activation=\"sigmoid\")\n",
    "    ])\n",
    "\n",
    "    model.compile(optimizer=tf.keras.optimizers.RMSprop(learning_rate=lr),\n",
    "                      loss=\"mean_squared_error\",\n",
    "                      metrics=[tf.keras.metrics.RootMeanSquaredError()])\n",
    "    return model\n",
    "\n",
    "def train_model(model, train_x, train_y, ep, bs, vs):\n",
    "    model.fit(train_x, train_y, epochs = ep, batch_size = bs, validation_split = vs)"
   ]
  },
  {
   "cell_type": "code",
   "execution_count": 4,
   "id": "bd98ac0a",
   "metadata": {
    "execution": {
     "iopub.execute_input": "2024-05-05T18:58:07.889845Z",
     "iopub.status.busy": "2024-05-05T18:58:07.889354Z",
     "iopub.status.idle": "2024-05-05T18:58:09.715484Z",
     "shell.execute_reply": "2024-05-05T18:58:09.714240Z"
    },
    "papermill": {
     "duration": 1.834638,
     "end_time": "2024-05-05T18:58:09.718658",
     "exception": false,
     "start_time": "2024-05-05T18:58:07.884020",
     "status": "completed"
    },
    "tags": []
   },
   "outputs": [
    {
     "name": "stdout",
     "output_type": "stream",
     "text": [
      "Epoch 1/4\n",
      "\u001b[1m36/36\u001b[0m \u001b[32m━━━━━━━━━━━━━━━━━━━━\u001b[0m\u001b[37m\u001b[0m \u001b[1m1s\u001b[0m 9ms/step - loss: 0.3102 - root_mean_squared_error: 0.5562 - val_loss: 0.2566 - val_root_mean_squared_error: 0.5066\n",
      "Epoch 2/4\n",
      "\u001b[1m36/36\u001b[0m \u001b[32m━━━━━━━━━━━━━━━━━━━━\u001b[0m\u001b[37m\u001b[0m \u001b[1m0s\u001b[0m 4ms/step - loss: 0.2758 - root_mean_squared_error: 0.5251 - val_loss: 0.2476 - val_root_mean_squared_error: 0.4976\n",
      "Epoch 3/4\n",
      "\u001b[1m36/36\u001b[0m \u001b[32m━━━━━━━━━━━━━━━━━━━━\u001b[0m\u001b[37m\u001b[0m \u001b[1m0s\u001b[0m 4ms/step - loss: 0.2664 - root_mean_squared_error: 0.5160 - val_loss: 0.3245 - val_root_mean_squared_error: 0.5697\n",
      "Epoch 4/4\n",
      "\u001b[1m36/36\u001b[0m \u001b[32m━━━━━━━━━━━━━━━━━━━━\u001b[0m\u001b[37m\u001b[0m \u001b[1m0s\u001b[0m 4ms/step - loss: 0.2737 - root_mean_squared_error: 0.5227 - val_loss: 0.3249 - val_root_mean_squared_error: 0.5700\n"
     ]
    }
   ],
   "source": [
    "ep = 4\n",
    "bs = 8\n",
    "lr = 0.01\n",
    "vs = 0.6\n",
    "\n",
    "model = build_model(lr)\n",
    "train_model(model, [train_x_age, train_x_gender, train_x_class], train_y, ep, bs, vs)"
   ]
  },
  {
   "cell_type": "code",
   "execution_count": 5,
   "id": "08b26ded",
   "metadata": {
    "execution": {
     "iopub.execute_input": "2024-05-05T18:58:09.730399Z",
     "iopub.status.busy": "2024-05-05T18:58:09.729934Z",
     "iopub.status.idle": "2024-05-05T18:58:09.960460Z",
     "shell.execute_reply": "2024-05-05T18:58:09.959145Z"
    },
    "papermill": {
     "duration": 0.239781,
     "end_time": "2024-05-05T18:58:09.963210",
     "exception": false,
     "start_time": "2024-05-05T18:58:09.723429",
     "status": "completed"
    },
    "tags": []
   },
   "outputs": [
    {
     "name": "stdout",
     "output_type": "stream",
     "text": [
      "\u001b[1m11/11\u001b[0m \u001b[32m━━━━━━━━━━━━━━━━━━━━\u001b[0m\u001b[37m\u001b[0m \u001b[1m0s\u001b[0m 5ms/step\n"
     ]
    },
    {
     "data": {
      "text/html": [
       "<div>\n",
       "<style scoped>\n",
       "    .dataframe tbody tr th:only-of-type {\n",
       "        vertical-align: middle;\n",
       "    }\n",
       "\n",
       "    .dataframe tbody tr th {\n",
       "        vertical-align: top;\n",
       "    }\n",
       "\n",
       "    .dataframe thead th {\n",
       "        text-align: right;\n",
       "    }\n",
       "</style>\n",
       "<table border=\"1\" class=\"dataframe\">\n",
       "  <thead>\n",
       "    <tr style=\"text-align: right;\">\n",
       "      <th></th>\n",
       "      <th>Gender</th>\n",
       "      <th>Age</th>\n",
       "      <th>Pclass</th>\n",
       "      <th>Survival Prediction</th>\n",
       "    </tr>\n",
       "  </thead>\n",
       "  <tbody>\n",
       "    <tr>\n",
       "      <th>0</th>\n",
       "      <td>male</td>\n",
       "      <td>34.5</td>\n",
       "      <td>3</td>\n",
       "      <td>7.449392</td>\n",
       "    </tr>\n",
       "    <tr>\n",
       "      <th>1</th>\n",
       "      <td>female</td>\n",
       "      <td>47.0</td>\n",
       "      <td>3</td>\n",
       "      <td>3.061157</td>\n",
       "    </tr>\n",
       "    <tr>\n",
       "      <th>2</th>\n",
       "      <td>male</td>\n",
       "      <td>62.0</td>\n",
       "      <td>2</td>\n",
       "      <td>1.017006</td>\n",
       "    </tr>\n",
       "    <tr>\n",
       "      <th>3</th>\n",
       "      <td>male</td>\n",
       "      <td>27.0</td>\n",
       "      <td>3</td>\n",
       "      <td>12.365915</td>\n",
       "    </tr>\n",
       "    <tr>\n",
       "      <th>4</th>\n",
       "      <td>female</td>\n",
       "      <td>22.0</td>\n",
       "      <td>3</td>\n",
       "      <td>17.023512</td>\n",
       "    </tr>\n",
       "    <tr>\n",
       "      <th>5</th>\n",
       "      <td>male</td>\n",
       "      <td>14.0</td>\n",
       "      <td>3</td>\n",
       "      <td>27.187332</td>\n",
       "    </tr>\n",
       "    <tr>\n",
       "      <th>6</th>\n",
       "      <td>female</td>\n",
       "      <td>30.0</td>\n",
       "      <td>3</td>\n",
       "      <td>10.130705</td>\n",
       "    </tr>\n",
       "    <tr>\n",
       "      <th>7</th>\n",
       "      <td>male</td>\n",
       "      <td>26.0</td>\n",
       "      <td>2</td>\n",
       "      <td>13.200185</td>\n",
       "    </tr>\n",
       "    <tr>\n",
       "      <th>8</th>\n",
       "      <td>female</td>\n",
       "      <td>18.0</td>\n",
       "      <td>3</td>\n",
       "      <td>21.677652</td>\n",
       "    </tr>\n",
       "    <tr>\n",
       "      <th>9</th>\n",
       "      <td>male</td>\n",
       "      <td>21.0</td>\n",
       "      <td>3</td>\n",
       "      <td>18.107084</td>\n",
       "    </tr>\n",
       "  </tbody>\n",
       "</table>\n",
       "</div>"
      ],
      "text/plain": [
       "   Gender   Age  Pclass  Survival Prediction\n",
       "0    male  34.5       3             7.449392\n",
       "1  female  47.0       3             3.061157\n",
       "2    male  62.0       2             1.017006\n",
       "3    male  27.0       3            12.365915\n",
       "4  female  22.0       3            17.023512\n",
       "5    male  14.0       3            27.187332\n",
       "6  female  30.0       3            10.130705\n",
       "7    male  26.0       2            13.200185\n",
       "8  female  18.0       3            21.677652\n",
       "9    male  21.0       3            18.107084"
      ]
     },
     "execution_count": 5,
     "metadata": {},
     "output_type": "execute_result"
    }
   ],
   "source": [
    "test_df_gender = test_df[\"Sex\"].map({ \"male\": 1, \"female\": 2})\n",
    "test_df_age = test_df[\"Age\"]\n",
    "test_df_class = test_df[\"Pclass\"]\n",
    "\n",
    "test_df_survived = np.reshape(model.predict([test_df_age, test_df_gender]), (332,)) * 100\n",
    "\n",
    "# We create a data frame to compare our predictions with the input\n",
    "test_results = pd.DataFrame()\n",
    "test_results[\"Gender\"] = test_df_gender.map({ 1: \"male\", 2: \"female\"})\n",
    "test_results[\"Age\"] = test_df_age\n",
    "test_results[\"Pclass\"] = test_df_class\n",
    "test_results[\"Survival Prediction\"] = test_df_survived\n",
    "\n",
    "test_results.head(10)"
   ]
  }
 ],
 "metadata": {
  "kaggle": {
   "accelerator": "none",
   "dataSources": [
    {
     "datasetId": 4943688,
     "sourceId": 8322308,
     "sourceType": "datasetVersion"
    }
   ],
   "dockerImageVersionId": 30698,
   "isGpuEnabled": false,
   "isInternetEnabled": false,
   "language": "python",
   "sourceType": "notebook"
  },
  "kernelspec": {
   "display_name": "Python 3",
   "language": "python",
   "name": "python3"
  },
  "language_info": {
   "codemirror_mode": {
    "name": "ipython",
    "version": 3
   },
   "file_extension": ".py",
   "mimetype": "text/x-python",
   "name": "python",
   "nbconvert_exporter": "python",
   "pygments_lexer": "ipython3",
   "version": "3.10.13"
  },
  "papermill": {
   "default_parameters": {},
   "duration": 24.153942,
   "end_time": "2024-05-05T18:58:12.816105",
   "environment_variables": {},
   "exception": null,
   "input_path": "__notebook__.ipynb",
   "output_path": "__notebook__.ipynb",
   "parameters": {},
   "start_time": "2024-05-05T18:57:48.662163",
   "version": "2.5.0"
  }
 },
 "nbformat": 4,
 "nbformat_minor": 5
}
