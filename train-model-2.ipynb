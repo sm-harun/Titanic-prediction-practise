{
 "cells": [
  {
   "cell_type": "code",
   "execution_count": 1,
   "id": "35a6bc12",
   "metadata": {
    "_cell_guid": "7c4f6827-43cf-4db4-b5d1-d345c4d61e16",
    "_uuid": "cc0dc6dc-4937-4f17-8aea-66ba0fc922ac",
    "collapsed": false,
    "execution": {
     "iopub.execute_input": "2024-05-06T09:08:39.645262Z",
     "iopub.status.busy": "2024-05-06T09:08:39.644125Z",
     "iopub.status.idle": "2024-05-06T09:08:54.919153Z",
     "shell.execute_reply": "2024-05-06T09:08:54.918097Z"
    },
    "jupyter": {
     "outputs_hidden": false
    },
    "papermill": {
     "duration": 15.282901,
     "end_time": "2024-05-06T09:08:54.921548",
     "exception": false,
     "start_time": "2024-05-06T09:08:39.638647",
     "status": "completed"
    },
    "tags": []
   },
   "outputs": [
    {
     "name": "stderr",
     "output_type": "stream",
     "text": [
      "2024-05-06 09:08:42.638299: E external/local_xla/xla/stream_executor/cuda/cuda_dnn.cc:9261] Unable to register cuDNN factory: Attempting to register factory for plugin cuDNN when one has already been registered\n",
      "2024-05-06 09:08:42.638468: E external/local_xla/xla/stream_executor/cuda/cuda_fft.cc:607] Unable to register cuFFT factory: Attempting to register factory for plugin cuFFT when one has already been registered\n",
      "2024-05-06 09:08:42.797556: E external/local_xla/xla/stream_executor/cuda/cuda_blas.cc:1515] Unable to register cuBLAS factory: Attempting to register factory for plugin cuBLAS when one has already been registered\n"
     ]
    }
   ],
   "source": [
    "import numpy as np\n",
    "import pandas as pd\n",
    "import tensorflow as tf\n",
    "\n",
    "from sklearn.model_selection import train_test_split"
   ]
  },
  {
   "cell_type": "code",
   "execution_count": 2,
   "id": "ec5c774c",
   "metadata": {
    "_cell_guid": "a1e6c88b-6450-4d6b-b747-bf25f4c88184",
    "_uuid": "f49dd7a5-ef1a-4930-80d4-e6abaea48c66",
    "collapsed": false,
    "execution": {
     "iopub.execute_input": "2024-05-06T09:08:54.930551Z",
     "iopub.status.busy": "2024-05-06T09:08:54.929835Z",
     "iopub.status.idle": "2024-05-06T09:08:54.973946Z",
     "shell.execute_reply": "2024-05-06T09:08:54.972890Z"
    },
    "jupyter": {
     "outputs_hidden": false
    },
    "papermill": {
     "duration": 0.051256,
     "end_time": "2024-05-06T09:08:54.976464",
     "exception": false,
     "start_time": "2024-05-06T09:08:54.925208",
     "status": "completed"
    },
    "tags": []
   },
   "outputs": [],
   "source": [
    "train_df = pd.read_csv(\"/kaggle/input/smtitanic/train.csv\")\n",
    "\n",
    "# Dropping null values from the dataset and shuffling.\n",
    "train_df.dropna(subset = [\"Age\"], inplace = True)\n",
    "train_df = train_df.reindex(np.random.permutation(train_df.index))\n",
    "\n",
    "# All our needed features\n",
    "train_x_age = train_df[\"Age\"]\n",
    "train_x_gender = train_df[\"Sex\"].map({ \"male\": 1, \"female\": 2})\n",
    "train_x_class = train_df[\"Pclass\"]"
   ]
  },
  {
   "cell_type": "code",
   "execution_count": 3,
   "id": "77727b4d",
   "metadata": {
    "_cell_guid": "a1e6c88b-6450-4d6b-b747-bf25f4c88184",
    "_uuid": "f49dd7a5-ef1a-4930-80d4-e6abaea48c66",
    "execution": {
     "iopub.execute_input": "2024-05-06T09:08:54.984796Z",
     "iopub.status.busy": "2024-05-06T09:08:54.984397Z",
     "iopub.status.idle": "2024-05-06T09:08:55.207903Z",
     "shell.execute_reply": "2024-05-06T09:08:55.206884Z"
    },
    "papermill": {
     "duration": 0.230541,
     "end_time": "2024-05-06T09:08:55.210477",
     "exception": false,
     "start_time": "2024-05-06T09:08:54.979936",
     "status": "completed"
    },
    "tags": []
   },
   "outputs": [],
   "source": [
    "# Spliting the data\n",
    "X = pd.DataFrame()\n",
    "X[\"Class\"] = train_x_class\n",
    "X[\"Gender\"] = train_x_gender\n",
    "X[\"Age\"] = train_x_age\n",
    "\n",
    "Y = train_df[\"Survived\"]\n",
    "\n",
    "train_x, test_x, train_y, test_y = train_test_split(X, Y, test_size=0.2, random_state=42)"
   ]
  },
  {
   "cell_type": "code",
   "execution_count": 4,
   "id": "07527cd7",
   "metadata": {
    "_cell_guid": "2ab98696-50fe-459f-8233-c9f15d9778b7",
    "_uuid": "92553f2f-d3a7-4f1b-8be8-f75a2896483a",
    "execution": {
     "iopub.execute_input": "2024-05-06T09:08:55.219807Z",
     "iopub.status.busy": "2024-05-06T09:08:55.219402Z",
     "iopub.status.idle": "2024-05-06T09:08:55.227163Z",
     "shell.execute_reply": "2024-05-06T09:08:55.225799Z"
    },
    "papermill": {
     "duration": 0.015734,
     "end_time": "2024-05-06T09:08:55.229623",
     "exception": false,
     "start_time": "2024-05-06T09:08:55.213889",
     "status": "completed"
    },
    "tags": []
   },
   "outputs": [],
   "source": [
    "def build_model(lr):\n",
    "    \n",
    "    # This is were the model is declared and all the layers.\n",
    "    model = tf.keras.Sequential([\n",
    "        tf.keras.layers.Input(shape=(1,)),\n",
    "        tf.keras.layers.Dense(6, activation=\"relu\"),\n",
    "        tf.keras.layers.Dense(1, activation=\"sigmoid\")\n",
    "    ])\n",
    "\n",
    "    model.compile(optimizer=tf.keras.optimizers.RMSprop(learning_rate=lr),\n",
    "                      loss=\"mean_squared_error\",\n",
    "                      metrics=[tf.keras.metrics.RootMeanSquaredError()])\n",
    "    return model\n",
    "\n",
    "def train_model(model, train_x, train_y, ep, bs, vs):\n",
    "    model.fit(train_x, train_y, epochs = ep, batch_size = bs, validation_split = vs)"
   ]
  },
  {
   "cell_type": "code",
   "execution_count": 5,
   "id": "676614ae",
   "metadata": {
    "_cell_guid": "95f9927b-6123-4c08-bb6b-a0289d45e006",
    "_uuid": "3302d497-cb67-4987-859e-6437246bc2d7",
    "collapsed": false,
    "execution": {
     "iopub.execute_input": "2024-05-06T09:08:55.238800Z",
     "iopub.status.busy": "2024-05-06T09:08:55.237899Z",
     "iopub.status.idle": "2024-05-06T09:08:56.774770Z",
     "shell.execute_reply": "2024-05-06T09:08:56.773732Z"
    },
    "jupyter": {
     "outputs_hidden": false
    },
    "papermill": {
     "duration": 1.543831,
     "end_time": "2024-05-06T09:08:56.777420",
     "exception": false,
     "start_time": "2024-05-06T09:08:55.233589",
     "status": "completed"
    },
    "tags": []
   },
   "outputs": [
    {
     "name": "stdout",
     "output_type": "stream",
     "text": [
      "Epoch 1/4\n",
      "\u001b[1m23/23\u001b[0m \u001b[32m━━━━━━━━━━━━━━━━━━━━\u001b[0m\u001b[37m\u001b[0m \u001b[1m1s\u001b[0m 11ms/step - loss: 0.2306 - root_mean_squared_error: 0.4800 - val_loss: 0.2216 - val_root_mean_squared_error: 0.4707\n",
      "Epoch 2/4\n",
      "\u001b[1m23/23\u001b[0m \u001b[32m━━━━━━━━━━━━━━━━━━━━\u001b[0m\u001b[37m\u001b[0m \u001b[1m0s\u001b[0m 4ms/step - loss: 0.2082 - root_mean_squared_error: 0.4562 - val_loss: 0.2160 - val_root_mean_squared_error: 0.4648\n",
      "Epoch 3/4\n",
      "\u001b[1m23/23\u001b[0m \u001b[32m━━━━━━━━━━━━━━━━━━━━\u001b[0m\u001b[37m\u001b[0m \u001b[1m0s\u001b[0m 4ms/step - loss: 0.2127 - root_mean_squared_error: 0.4609 - val_loss: 0.2183 - val_root_mean_squared_error: 0.4672\n",
      "Epoch 4/4\n",
      "\u001b[1m23/23\u001b[0m \u001b[32m━━━━━━━━━━━━━━━━━━━━\u001b[0m\u001b[37m\u001b[0m \u001b[1m0s\u001b[0m 4ms/step - loss: 0.2128 - root_mean_squared_error: 0.4611 - val_loss: 0.2185 - val_root_mean_squared_error: 0.4675\n"
     ]
    }
   ],
   "source": [
    "ep = 4\n",
    "bs = 10\n",
    "lr = 0.03\n",
    "vs = 0.6\n",
    "\n",
    "model = build_model(lr)\n",
    "train_model(model, [train_x[\"Class\"], train_x[\"Gender\"], train_x[\"Age\"]], train_y, ep, bs, vs)"
   ]
  },
  {
   "cell_type": "code",
   "execution_count": 6,
   "id": "0c416e76",
   "metadata": {
    "_cell_guid": "02ec1f30-fa52-4d5a-8c25-ea64142d99ba",
    "_uuid": "296271ee-740c-4660-9e61-d579a6dde41d",
    "execution": {
     "iopub.execute_input": "2024-05-06T09:08:56.788113Z",
     "iopub.status.busy": "2024-05-06T09:08:56.787557Z",
     "iopub.status.idle": "2024-05-06T09:08:56.976067Z",
     "shell.execute_reply": "2024-05-06T09:08:56.974895Z"
    },
    "papermill": {
     "duration": 0.196775,
     "end_time": "2024-05-06T09:08:56.978534",
     "exception": false,
     "start_time": "2024-05-06T09:08:56.781759",
     "status": "completed"
    },
    "tags": []
   },
   "outputs": [
    {
     "name": "stdout",
     "output_type": "stream",
     "text": [
      "\u001b[1m5/5\u001b[0m \u001b[32m━━━━━━━━━━━━━━━━━━━━\u001b[0m\u001b[37m\u001b[0m \u001b[1m0s\u001b[0m 9ms/step \n"
     ]
    },
    {
     "data": {
      "text/html": [
       "<div>\n",
       "<style scoped>\n",
       "    .dataframe tbody tr th:only-of-type {\n",
       "        vertical-align: middle;\n",
       "    }\n",
       "\n",
       "    .dataframe tbody tr th {\n",
       "        vertical-align: top;\n",
       "    }\n",
       "\n",
       "    .dataframe thead th {\n",
       "        text-align: right;\n",
       "    }\n",
       "</style>\n",
       "<table border=\"1\" class=\"dataframe\">\n",
       "  <thead>\n",
       "    <tr style=\"text-align: right;\">\n",
       "      <th></th>\n",
       "      <th>Class</th>\n",
       "      <th>Gender</th>\n",
       "      <th>Age</th>\n",
       "      <th>Survival Prediction</th>\n",
       "    </tr>\n",
       "  </thead>\n",
       "  <tbody>\n",
       "    <tr>\n",
       "      <th>608</th>\n",
       "      <td>2</td>\n",
       "      <td>female</td>\n",
       "      <td>22.0</td>\n",
       "      <td>0</td>\n",
       "    </tr>\n",
       "    <tr>\n",
       "      <th>529</th>\n",
       "      <td>2</td>\n",
       "      <td>male</td>\n",
       "      <td>23.0</td>\n",
       "      <td>0</td>\n",
       "    </tr>\n",
       "    <tr>\n",
       "      <th>714</th>\n",
       "      <td>2</td>\n",
       "      <td>male</td>\n",
       "      <td>52.0</td>\n",
       "      <td>0</td>\n",
       "    </tr>\n",
       "    <tr>\n",
       "      <th>660</th>\n",
       "      <td>1</td>\n",
       "      <td>male</td>\n",
       "      <td>50.0</td>\n",
       "      <td>1</td>\n",
       "    </tr>\n",
       "    <tr>\n",
       "      <th>194</th>\n",
       "      <td>1</td>\n",
       "      <td>female</td>\n",
       "      <td>44.0</td>\n",
       "      <td>1</td>\n",
       "    </tr>\n",
       "    <tr>\n",
       "      <th>299</th>\n",
       "      <td>1</td>\n",
       "      <td>female</td>\n",
       "      <td>50.0</td>\n",
       "      <td>1</td>\n",
       "    </tr>\n",
       "    <tr>\n",
       "      <th>757</th>\n",
       "      <td>2</td>\n",
       "      <td>male</td>\n",
       "      <td>18.0</td>\n",
       "      <td>0</td>\n",
       "    </tr>\n",
       "    <tr>\n",
       "      <th>174</th>\n",
       "      <td>1</td>\n",
       "      <td>male</td>\n",
       "      <td>56.0</td>\n",
       "      <td>1</td>\n",
       "    </tr>\n",
       "    <tr>\n",
       "      <th>211</th>\n",
       "      <td>2</td>\n",
       "      <td>female</td>\n",
       "      <td>35.0</td>\n",
       "      <td>0</td>\n",
       "    </tr>\n",
       "    <tr>\n",
       "      <th>262</th>\n",
       "      <td>1</td>\n",
       "      <td>male</td>\n",
       "      <td>52.0</td>\n",
       "      <td>1</td>\n",
       "    </tr>\n",
       "  </tbody>\n",
       "</table>\n",
       "</div>"
      ],
      "text/plain": [
       "     Class  Gender   Age  Survival Prediction\n",
       "608      2  female  22.0                    0\n",
       "529      2    male  23.0                    0\n",
       "714      2    male  52.0                    0\n",
       "660      1    male  50.0                    1\n",
       "194      1  female  44.0                    1\n",
       "299      1  female  50.0                    1\n",
       "757      2    male  18.0                    0\n",
       "174      1    male  56.0                    1\n",
       "211      2  female  35.0                    0\n",
       "262      1    male  52.0                    1"
      ]
     },
     "execution_count": 6,
     "metadata": {},
     "output_type": "execute_result"
    }
   ],
   "source": [
    "test_df_survived = model.predict([test_x[\"Class\"], test_x[\"Gender\"], test_x[\"Age\"]])\n",
    "predictions = np.round(test_df_survived).astype(int)\n",
    "\n",
    "# We create a data frame to compare our predictions with the input\n",
    "test_x[\"Gender\"] = test_x[\"Gender\"].map({ 1: \"male\", 2: \"female\"})\n",
    "test_x[\"Survival Prediction\"] = predictions\n",
    "\n",
    "test_x.head(10)"
   ]
  },
  {
   "cell_type": "code",
   "execution_count": 7,
   "id": "aa7585b1",
   "metadata": {
    "execution": {
     "iopub.execute_input": "2024-05-06T09:08:56.989963Z",
     "iopub.status.busy": "2024-05-06T09:08:56.989579Z",
     "iopub.status.idle": "2024-05-06T09:08:56.998262Z",
     "shell.execute_reply": "2024-05-06T09:08:56.996884Z"
    },
    "papermill": {
     "duration": 0.017988,
     "end_time": "2024-05-06T09:08:57.001288",
     "exception": false,
     "start_time": "2024-05-06T09:08:56.983300",
     "status": "completed"
    },
    "tags": []
   },
   "outputs": [
    {
     "name": "stdout",
     "output_type": "stream",
     "text": [
      "0.6853146853146853\n"
     ]
    }
   ],
   "source": [
    "i = 0\n",
    "cp = 0\n",
    "for prediction in predictions:\n",
    "    if prediction == test_y.iloc[i]:\n",
    "        cp=cp+1\n",
    "    i=i+1\n",
    "\n",
    "print(cp/i)"
   ]
  },
  {
   "cell_type": "code",
   "execution_count": 8,
   "id": "e8fe87a3",
   "metadata": {
    "execution": {
     "iopub.execute_input": "2024-05-06T09:08:57.013323Z",
     "iopub.status.busy": "2024-05-06T09:08:57.012489Z",
     "iopub.status.idle": "2024-05-06T09:08:57.155784Z",
     "shell.execute_reply": "2024-05-06T09:08:57.154737Z"
    },
    "papermill": {
     "duration": 0.151816,
     "end_time": "2024-05-06T09:08:57.158169",
     "exception": false,
     "start_time": "2024-05-06T09:08:57.006353",
     "status": "completed"
    },
    "tags": []
   },
   "outputs": [
    {
     "name": "stdout",
     "output_type": "stream",
     "text": [
      "\u001b[1m14/14\u001b[0m \u001b[32m━━━━━━━━━━━━━━━━━━━━\u001b[0m\u001b[37m\u001b[0m \u001b[1m0s\u001b[0m 2ms/step \n"
     ]
    },
    {
     "data": {
      "text/html": [
       "<div>\n",
       "<style scoped>\n",
       "    .dataframe tbody tr th:only-of-type {\n",
       "        vertical-align: middle;\n",
       "    }\n",
       "\n",
       "    .dataframe tbody tr th {\n",
       "        vertical-align: top;\n",
       "    }\n",
       "\n",
       "    .dataframe thead th {\n",
       "        text-align: right;\n",
       "    }\n",
       "</style>\n",
       "<table border=\"1\" class=\"dataframe\">\n",
       "  <thead>\n",
       "    <tr style=\"text-align: right;\">\n",
       "      <th></th>\n",
       "      <th>PassengerId</th>\n",
       "      <th>Survived</th>\n",
       "    </tr>\n",
       "  </thead>\n",
       "  <tbody>\n",
       "    <tr>\n",
       "      <th>0</th>\n",
       "      <td>892</td>\n",
       "      <td>0</td>\n",
       "    </tr>\n",
       "    <tr>\n",
       "      <th>1</th>\n",
       "      <td>893</td>\n",
       "      <td>0</td>\n",
       "    </tr>\n",
       "    <tr>\n",
       "      <th>2</th>\n",
       "      <td>894</td>\n",
       "      <td>0</td>\n",
       "    </tr>\n",
       "    <tr>\n",
       "      <th>3</th>\n",
       "      <td>895</td>\n",
       "      <td>0</td>\n",
       "    </tr>\n",
       "    <tr>\n",
       "      <th>4</th>\n",
       "      <td>896</td>\n",
       "      <td>0</td>\n",
       "    </tr>\n",
       "    <tr>\n",
       "      <th>...</th>\n",
       "      <td>...</td>\n",
       "      <td>...</td>\n",
       "    </tr>\n",
       "    <tr>\n",
       "      <th>413</th>\n",
       "      <td>1305</td>\n",
       "      <td>0</td>\n",
       "    </tr>\n",
       "    <tr>\n",
       "      <th>414</th>\n",
       "      <td>1306</td>\n",
       "      <td>1</td>\n",
       "    </tr>\n",
       "    <tr>\n",
       "      <th>415</th>\n",
       "      <td>1307</td>\n",
       "      <td>0</td>\n",
       "    </tr>\n",
       "    <tr>\n",
       "      <th>416</th>\n",
       "      <td>1308</td>\n",
       "      <td>0</td>\n",
       "    </tr>\n",
       "    <tr>\n",
       "      <th>417</th>\n",
       "      <td>1309</td>\n",
       "      <td>0</td>\n",
       "    </tr>\n",
       "  </tbody>\n",
       "</table>\n",
       "<p>418 rows × 2 columns</p>\n",
       "</div>"
      ],
      "text/plain": [
       "     PassengerId  Survived\n",
       "0            892         0\n",
       "1            893         0\n",
       "2            894         0\n",
       "3            895         0\n",
       "4            896         0\n",
       "..           ...       ...\n",
       "413         1305         0\n",
       "414         1306         1\n",
       "415         1307         0\n",
       "416         1308         0\n",
       "417         1309         0\n",
       "\n",
       "[418 rows x 2 columns]"
      ]
     },
     "execution_count": 8,
     "metadata": {},
     "output_type": "execute_result"
    }
   ],
   "source": [
    "test_df = pd.read_csv(\"/kaggle/input/smtitanic/test.csv\")\n",
    "\n",
    "test_df_class = test_df[\"Pclass\"].ffill()\n",
    "test_df_gender = test_df[\"Sex\"].map({ \"male\":1 , \"female\": 2})\n",
    "test_df_age = test_df[\"Age\"].ffill()\n",
    "\n",
    "model_predictions =  model.predict([test_df_class, test_df_gender, test_df_age])\n",
    "rounded_predictions = np.round(model_predictions).astype(int)\n",
    "\n",
    "submisson_df = pd.DataFrame(test_df[\"PassengerId\"])\n",
    "submisson_df[\"Survived\"] = rounded_predictions\n",
    "\n",
    "submisson_df"
   ]
  },
  {
   "cell_type": "code",
   "execution_count": 9,
   "id": "24051716",
   "metadata": {
    "execution": {
     "iopub.execute_input": "2024-05-06T09:08:57.170011Z",
     "iopub.status.busy": "2024-05-06T09:08:57.169587Z",
     "iopub.status.idle": "2024-05-06T09:08:57.181266Z",
     "shell.execute_reply": "2024-05-06T09:08:57.179977Z"
    },
    "papermill": {
     "duration": 0.020438,
     "end_time": "2024-05-06T09:08:57.183683",
     "exception": false,
     "start_time": "2024-05-06T09:08:57.163245",
     "status": "completed"
    },
    "tags": []
   },
   "outputs": [
    {
     "name": "stdout",
     "output_type": "stream",
     "text": [
      "\n"
     ]
    }
   ],
   "source": [
    "submisson_df.to_csv(\"/kaggle/working/submission_1.csv\")\n",
    "print(\"\")"
   ]
  }
 ],
 "metadata": {
  "kaggle": {
   "accelerator": "none",
   "dataSources": [
    {
     "datasetId": 4943688,
     "sourceId": 8322308,
     "sourceType": "datasetVersion"
    }
   ],
   "dockerImageVersionId": 30698,
   "isGpuEnabled": false,
   "isInternetEnabled": false,
   "language": "python",
   "sourceType": "notebook"
  },
  "kernelspec": {
   "display_name": "Python 3",
   "language": "python",
   "name": "python3"
  },
  "language_info": {
   "codemirror_mode": {
    "name": "ipython",
    "version": 3
   },
   "file_extension": ".py",
   "mimetype": "text/x-python",
   "name": "python",
   "nbconvert_exporter": "python",
   "pygments_lexer": "ipython3",
   "version": "3.10.13"
  },
  "papermill": {
   "default_parameters": {},
   "duration": 21.953047,
   "end_time": "2024-05-06T09:08:58.814505",
   "environment_variables": {},
   "exception": null,
   "input_path": "__notebook__.ipynb",
   "output_path": "__notebook__.ipynb",
   "parameters": {},
   "start_time": "2024-05-06T09:08:36.861458",
   "version": "2.5.0"
  }
 },
 "nbformat": 4,
 "nbformat_minor": 5
}
