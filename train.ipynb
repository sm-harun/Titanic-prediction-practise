{
 "cells": [
  {
   "cell_type": "code",
   "execution_count": 1,
   "id": "c501266e",
   "metadata": {
    "_cell_guid": "b1076dfc-b9ad-4769-8c92-a6c4dae69d19",
    "_uuid": "8f2839f25d086af736a60e9eeb907d3b93b6e0e5",
    "execution": {
     "iopub.execute_input": "2024-05-03T17:48:45.438117Z",
     "iopub.status.busy": "2024-05-03T17:48:45.437543Z",
     "iopub.status.idle": "2024-05-03T17:49:00.168930Z",
     "shell.execute_reply": "2024-05-03T17:49:00.167913Z"
    },
    "papermill": {
     "duration": 14.738953,
     "end_time": "2024-05-03T17:49:00.172015",
     "exception": false,
     "start_time": "2024-05-03T17:48:45.433062",
     "status": "completed"
    },
    "tags": []
   },
   "outputs": [
    {
     "name": "stderr",
     "output_type": "stream",
     "text": [
      "2024-05-03 17:48:48.437547: E external/local_xla/xla/stream_executor/cuda/cuda_dnn.cc:9261] Unable to register cuDNN factory: Attempting to register factory for plugin cuDNN when one has already been registered\n",
      "2024-05-03 17:48:48.437678: E external/local_xla/xla/stream_executor/cuda/cuda_fft.cc:607] Unable to register cuFFT factory: Attempting to register factory for plugin cuFFT when one has already been registered\n",
      "2024-05-03 17:48:48.615528: E external/local_xla/xla/stream_executor/cuda/cuda_blas.cc:1515] Unable to register cuBLAS factory: Attempting to register factory for plugin cuBLAS when one has already been registered\n"
     ]
    }
   ],
   "source": [
    "import numpy as np\n",
    "import pandas as pd\n",
    "import tensorflow as tf\n",
    "\n",
    "train_data = pd.read_csv(\"/kaggle/input/titanic/train.csv\")\n",
    "#Shuffles all the training data.\n",
    "train_data = train_data.reindex(np.random.permutation(train_data.index))\n",
    "\n",
    "test_data = pd.read_csv(\"/kaggle/input/titanic/train.csv\")"
   ]
  },
  {
   "cell_type": "code",
   "execution_count": 2,
   "id": "be79c258",
   "metadata": {
    "execution": {
     "iopub.execute_input": "2024-05-03T17:49:00.179478Z",
     "iopub.status.busy": "2024-05-03T17:49:00.178798Z",
     "iopub.status.idle": "2024-05-03T17:49:00.186939Z",
     "shell.execute_reply": "2024-05-03T17:49:00.185735Z"
    },
    "papermill": {
     "duration": 0.014733,
     "end_time": "2024-05-03T17:49:00.189774",
     "exception": false,
     "start_time": "2024-05-03T17:49:00.175041",
     "status": "completed"
    },
    "tags": []
   },
   "outputs": [],
   "source": [
    "def build_model(learning_rate):\n",
    "    \n",
    "    # Create the model.\n",
    "    model = tf.keras.models.Sequential()\n",
    "    model.add(tf.keras.layers.Dense(units=1, input_shape=(1,)))\n",
    "    \n",
    "    # Complile for tensorflow.\n",
    "    model.compile(optimizer=tf.keras.optimizers.RMSprop(learning_rate=learning_rate),\n",
    "                  loss=\"mean_squared_error\",\n",
    "                  metrics=[tf.keras.metrics.RootMeanSquaredError()])\n",
    "    \n",
    "    return model\n",
    "\n",
    "def train_model(model, x_train, y_train, epochs, batch_size, validation_split):\n",
    "    \n",
    "    history = model.fit(x_train, y_train, epochs = epochs, \n",
    "                        batch_size = batch_size, validation_split = validation_split)\n",
    "    \n",
    "    return history\n",
    "    "
   ]
  },
  {
   "cell_type": "code",
   "execution_count": 3,
   "id": "ed4459a9",
   "metadata": {
    "execution": {
     "iopub.execute_input": "2024-05-03T17:49:00.196590Z",
     "iopub.status.busy": "2024-05-03T17:49:00.196207Z",
     "iopub.status.idle": "2024-05-03T17:49:02.015095Z",
     "shell.execute_reply": "2024-05-03T17:49:02.013873Z"
    },
    "papermill": {
     "duration": 1.825842,
     "end_time": "2024-05-03T17:49:02.018319",
     "exception": false,
     "start_time": "2024-05-03T17:49:00.192477",
     "status": "completed"
    },
    "tags": []
   },
   "outputs": [
    {
     "name": "stdout",
     "output_type": "stream",
     "text": [
      "Epoch 1/5\n"
     ]
    },
    {
     "name": "stderr",
     "output_type": "stream",
     "text": [
      "/opt/conda/lib/python3.10/site-packages/keras/src/layers/core/dense.py:86: UserWarning: Do not pass an `input_shape`/`input_dim` argument to a layer. When using Sequential models, prefer using an `Input(shape)` object as the first layer in the model instead.\n",
      "  super().__init__(activity_regularizer=activity_regularizer, **kwargs)\n"
     ]
    },
    {
     "name": "stdout",
     "output_type": "stream",
     "text": [
      "\u001b[1m60/60\u001b[0m \u001b[32m━━━━━━━━━━━━━━━━━━━━\u001b[0m\u001b[37m\u001b[0m \u001b[1m1s\u001b[0m 5ms/step - loss: 0.2325 - root_mean_squared_error: 0.4802 - val_loss: 0.1525 - val_root_mean_squared_error: 0.3905\n",
      "Epoch 2/5\n",
      "\u001b[1m60/60\u001b[0m \u001b[32m━━━━━━━━━━━━━━━━━━━━\u001b[0m\u001b[37m\u001b[0m \u001b[1m0s\u001b[0m 2ms/step - loss: 0.2055 - root_mean_squared_error: 0.4532 - val_loss: 0.3505 - val_root_mean_squared_error: 0.5920\n",
      "Epoch 3/5\n",
      "\u001b[1m60/60\u001b[0m \u001b[32m━━━━━━━━━━━━━━━━━━━━\u001b[0m\u001b[37m\u001b[0m \u001b[1m0s\u001b[0m 2ms/step - loss: 0.2359 - root_mean_squared_error: 0.4822 - val_loss: 0.2571 - val_root_mean_squared_error: 0.5070\n",
      "Epoch 4/5\n",
      "\u001b[1m60/60\u001b[0m \u001b[32m━━━━━━━━━━━━━━━━━━━━\u001b[0m\u001b[37m\u001b[0m \u001b[1m0s\u001b[0m 2ms/step - loss: 0.2107 - root_mean_squared_error: 0.4584 - val_loss: 0.2287 - val_root_mean_squared_error: 0.4783\n",
      "Epoch 5/5\n",
      "\u001b[1m60/60\u001b[0m \u001b[32m━━━━━━━━━━━━━━━━━━━━\u001b[0m\u001b[37m\u001b[0m \u001b[1m0s\u001b[0m 2ms/step - loss: 0.1985 - root_mean_squared_error: 0.4452 - val_loss: 0.1885 - val_root_mean_squared_error: 0.4342\n"
     ]
    }
   ],
   "source": [
    "# Here we specify all the hyperpatameters.\n",
    "validation_split = 0.2\n",
    "learning_rate = 0.2\n",
    "epochs = 5\n",
    "batch_size = 12\n",
    "\n",
    "# Here we build and train.\n",
    "survival_prediction_model = build_model(learning_rate)\n",
    "\n",
    "train_x = train_data[\"Sex\"].map({ \"male\": 0, \"female\": 1})\n",
    "train_y = train_data[\"Survived\"]\n",
    "\n",
    "history = train_model(survival_prediction_model, train_x, train_y, epochs, batch_size, validation_split);"
   ]
  },
  {
   "cell_type": "code",
   "execution_count": 4,
   "id": "73ccad5d",
   "metadata": {
    "execution": {
     "iopub.execute_input": "2024-05-03T17:49:02.030412Z",
     "iopub.status.busy": "2024-05-03T17:49:02.029986Z",
     "iopub.status.idle": "2024-05-03T17:49:02.207349Z",
     "shell.execute_reply": "2024-05-03T17:49:02.206079Z"
    },
    "papermill": {
     "duration": 0.187859,
     "end_time": "2024-05-03T17:49:02.211039",
     "exception": false,
     "start_time": "2024-05-03T17:49:02.023180",
     "status": "completed"
    },
    "tags": []
   },
   "outputs": [
    {
     "name": "stdout",
     "output_type": "stream",
     "text": [
      "\u001b[1m28/28\u001b[0m \u001b[32m━━━━━━━━━━━━━━━━━━━━\u001b[0m\u001b[37m\u001b[0m \u001b[1m0s\u001b[0m 2ms/step \n"
     ]
    }
   ],
   "source": [
    "test = test_data[\"Sex\"].map({ \"male\": 0, \"female\": 1})\n",
    "predictions = survival_prediction_model.predict(test)\n",
    "\n",
    "# results = test_data[\"Sex\"]\n",
    "# results[\"Predictions\"] = predictions"
   ]
  }
 ],
 "metadata": {
  "kaggle": {
   "accelerator": "none",
   "dataSources": [
    {
     "datasetId": 4932468,
     "sourceId": 8302744,
     "sourceType": "datasetVersion"
    }
   ],
   "dockerImageVersionId": 30698,
   "isGpuEnabled": false,
   "isInternetEnabled": false,
   "language": "python",
   "sourceType": "notebook"
  },
  "kernelspec": {
   "display_name": "Python 3",
   "language": "python",
   "name": "python3"
  },
  "language_info": {
   "codemirror_mode": {
    "name": "ipython",
    "version": 3
   },
   "file_extension": ".py",
   "mimetype": "text/x-python",
   "name": "python",
   "nbconvert_exporter": "python",
   "pygments_lexer": "ipython3",
   "version": "3.10.13"
  },
  "papermill": {
   "default_parameters": {},
   "duration": 22.137781,
   "end_time": "2024-05-03T17:49:04.534454",
   "environment_variables": {},
   "exception": null,
   "input_path": "__notebook__.ipynb",
   "output_path": "__notebook__.ipynb",
   "parameters": {},
   "start_time": "2024-05-03T17:48:42.396673",
   "version": "2.5.0"
  }
 },
 "nbformat": 4,
 "nbformat_minor": 5
}
