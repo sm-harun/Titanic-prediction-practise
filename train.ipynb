{
 "cells": [
  {
   "cell_type": "code",
   "execution_count": 1,
   "id": "48f37b38",
   "metadata": {
    "_cell_guid": "b1076dfc-b9ad-4769-8c92-a6c4dae69d19",
    "_uuid": "8f2839f25d086af736a60e9eeb907d3b93b6e0e5",
    "execution": {
     "iopub.execute_input": "2024-05-03T17:58:42.678920Z",
     "iopub.status.busy": "2024-05-03T17:58:42.678429Z",
     "iopub.status.idle": "2024-05-03T17:58:59.997749Z",
     "shell.execute_reply": "2024-05-03T17:58:59.996051Z"
    },
    "papermill": {
     "duration": 17.329816,
     "end_time": "2024-05-03T17:59:00.001776",
     "exception": false,
     "start_time": "2024-05-03T17:58:42.671960",
     "status": "completed"
    },
    "tags": []
   },
   "outputs": [
    {
     "name": "stderr",
     "output_type": "stream",
     "text": [
      "2024-05-03 17:58:46.317447: E external/local_xla/xla/stream_executor/cuda/cuda_dnn.cc:9261] Unable to register cuDNN factory: Attempting to register factory for plugin cuDNN when one has already been registered\n",
      "2024-05-03 17:58:46.317623: E external/local_xla/xla/stream_executor/cuda/cuda_fft.cc:607] Unable to register cuFFT factory: Attempting to register factory for plugin cuFFT when one has already been registered\n",
      "2024-05-03 17:58:46.481231: E external/local_xla/xla/stream_executor/cuda/cuda_blas.cc:1515] Unable to register cuBLAS factory: Attempting to register factory for plugin cuBLAS when one has already been registered\n"
     ]
    }
   ],
   "source": [
    "import numpy as np\n",
    "import pandas as pd\n",
    "import tensorflow as tf\n",
    "\n",
    "train_data = pd.read_csv(\"/kaggle/input/titanic/train.csv\")\n",
    "#Shuffles all the training data.\n",
    "train_data = train_data.reindex(np.random.permutation(train_data.index))\n",
    "\n",
    "test_data = pd.read_csv(\"/kaggle/input/titanic/train.csv\")"
   ]
  },
  {
   "cell_type": "code",
   "execution_count": 2,
   "id": "79290b91",
   "metadata": {
    "execution": {
     "iopub.execute_input": "2024-05-03T17:59:00.011545Z",
     "iopub.status.busy": "2024-05-03T17:59:00.011113Z",
     "iopub.status.idle": "2024-05-03T17:59:00.021401Z",
     "shell.execute_reply": "2024-05-03T17:59:00.019757Z"
    },
    "papermill": {
     "duration": 0.019271,
     "end_time": "2024-05-03T17:59:00.025330",
     "exception": false,
     "start_time": "2024-05-03T17:59:00.006059",
     "status": "completed"
    },
    "tags": []
   },
   "outputs": [],
   "source": [
    "def build_model(learning_rate):\n",
    "    \n",
    "    # Create the model.\n",
    "    model = tf.keras.models.Sequential()\n",
    "    model.add(tf.keras.layers.Dense(units=1, input_shape=(1,)))\n",
    "    \n",
    "    # Complile for tensorflow.\n",
    "    model.compile(optimizer=tf.keras.optimizers.RMSprop(learning_rate=learning_rate),\n",
    "                  loss=\"mean_squared_error\",\n",
    "                  metrics=[tf.keras.metrics.RootMeanSquaredError()])\n",
    "    \n",
    "    return model\n",
    "\n",
    "def train_model(model, x_train, y_train, epochs, batch_size, validation_split):\n",
    "    \n",
    "    history = model.fit(x_train, y_train, epochs = epochs, \n",
    "                        batch_size = batch_size, validation_split = validation_split)\n",
    "    \n",
    "    return history\n",
    "    "
   ]
  },
  {
   "cell_type": "code",
   "execution_count": 3,
   "id": "77a146dd",
   "metadata": {
    "execution": {
     "iopub.execute_input": "2024-05-03T17:59:00.033784Z",
     "iopub.status.busy": "2024-05-03T17:59:00.033270Z",
     "iopub.status.idle": "2024-05-03T17:59:02.445240Z",
     "shell.execute_reply": "2024-05-03T17:59:02.444046Z"
    },
    "papermill": {
     "duration": 2.419586,
     "end_time": "2024-05-03T17:59:02.448054",
     "exception": false,
     "start_time": "2024-05-03T17:59:00.028468",
     "status": "completed"
    },
    "tags": []
   },
   "outputs": [
    {
     "name": "stderr",
     "output_type": "stream",
     "text": [
      "/opt/conda/lib/python3.10/site-packages/keras/src/layers/core/dense.py:86: UserWarning: Do not pass an `input_shape`/`input_dim` argument to a layer. When using Sequential models, prefer using an `Input(shape)` object as the first layer in the model instead.\n",
      "  super().__init__(activity_regularizer=activity_regularizer, **kwargs)\n"
     ]
    },
    {
     "name": "stdout",
     "output_type": "stream",
     "text": [
      "Epoch 1/5\n",
      "\u001b[1m60/60\u001b[0m \u001b[32m━━━━━━━━━━━━━━━━━━━━\u001b[0m\u001b[37m\u001b[0m \u001b[1m1s\u001b[0m 6ms/step - loss: 0.2198 - root_mean_squared_error: 0.4681 - val_loss: 0.1969 - val_root_mean_squared_error: 0.4438\n",
      "Epoch 2/5\n",
      "\u001b[1m60/60\u001b[0m \u001b[32m━━━━━━━━━━━━━━━━━━━━\u001b[0m\u001b[37m\u001b[0m \u001b[1m0s\u001b[0m 2ms/step - loss: 0.1889 - root_mean_squared_error: 0.4344 - val_loss: 0.2154 - val_root_mean_squared_error: 0.4641\n",
      "Epoch 3/5\n",
      "\u001b[1m60/60\u001b[0m \u001b[32m━━━━━━━━━━━━━━━━━━━━\u001b[0m\u001b[37m\u001b[0m \u001b[1m0s\u001b[0m 3ms/step - loss: 0.2068 - root_mean_squared_error: 0.4543 - val_loss: 0.1935 - val_root_mean_squared_error: 0.4399\n",
      "Epoch 4/5\n",
      "\u001b[1m60/60\u001b[0m \u001b[32m━━━━━━━━━━━━━━━━━━━━\u001b[0m\u001b[37m\u001b[0m \u001b[1m0s\u001b[0m 2ms/step - loss: 0.1708 - root_mean_squared_error: 0.4124 - val_loss: 0.1848 - val_root_mean_squared_error: 0.4298\n",
      "Epoch 5/5\n",
      "\u001b[1m60/60\u001b[0m \u001b[32m━━━━━━━━━━━━━━━━━━━━\u001b[0m\u001b[37m\u001b[0m \u001b[1m0s\u001b[0m 3ms/step - loss: 0.1705 - root_mean_squared_error: 0.4115 - val_loss: 0.1863 - val_root_mean_squared_error: 0.4316\n"
     ]
    }
   ],
   "source": [
    "# Here we specify all the hyperpatameters.\n",
    "validation_split = 0.2\n",
    "learning_rate = 0.2\n",
    "epochs = 5\n",
    "batch_size = 12\n",
    "\n",
    "# Here we build and train.\n",
    "survival_prediction_model = build_model(learning_rate)\n",
    "\n",
    "train_x = train_data[\"Sex\"].map({ \"male\": 0, \"female\": 1})\n",
    "train_y = train_data[\"Survived\"]\n",
    "\n",
    "history = train_model(survival_prediction_model, train_x, train_y, epochs, batch_size, validation_split);"
   ]
  },
  {
   "cell_type": "code",
   "execution_count": 4,
   "id": "be36d304",
   "metadata": {
    "execution": {
     "iopub.execute_input": "2024-05-03T17:59:02.461448Z",
     "iopub.status.busy": "2024-05-03T17:59:02.460886Z",
     "iopub.status.idle": "2024-05-03T17:59:02.706121Z",
     "shell.execute_reply": "2024-05-03T17:59:02.704009Z"
    },
    "papermill": {
     "duration": 0.255961,
     "end_time": "2024-05-03T17:59:02.709400",
     "exception": false,
     "start_time": "2024-05-03T17:59:02.453439",
     "status": "completed"
    },
    "tags": []
   },
   "outputs": [
    {
     "name": "stdout",
     "output_type": "stream",
     "text": [
      "\u001b[1m28/28\u001b[0m \u001b[32m━━━━━━━━━━━━━━━━━━━━\u001b[0m\u001b[37m\u001b[0m \u001b[1m0s\u001b[0m 2ms/step\n"
     ]
    },
    {
     "data": {
      "text/html": [
       "<div>\n",
       "<style scoped>\n",
       "    .dataframe tbody tr th:only-of-type {\n",
       "        vertical-align: middle;\n",
       "    }\n",
       "\n",
       "    .dataframe tbody tr th {\n",
       "        vertical-align: top;\n",
       "    }\n",
       "\n",
       "    .dataframe thead th {\n",
       "        text-align: right;\n",
       "    }\n",
       "</style>\n",
       "<table border=\"1\" class=\"dataframe\">\n",
       "  <thead>\n",
       "    <tr style=\"text-align: right;\">\n",
       "      <th></th>\n",
       "      <th>Gender</th>\n",
       "      <th>Predictions</th>\n",
       "    </tr>\n",
       "  </thead>\n",
       "  <tbody>\n",
       "    <tr>\n",
       "      <th>0</th>\n",
       "      <td>male</td>\n",
       "      <td>0.244103</td>\n",
       "    </tr>\n",
       "    <tr>\n",
       "      <th>1</th>\n",
       "      <td>female</td>\n",
       "      <td>0.815221</td>\n",
       "    </tr>\n",
       "    <tr>\n",
       "      <th>2</th>\n",
       "      <td>female</td>\n",
       "      <td>0.815221</td>\n",
       "    </tr>\n",
       "    <tr>\n",
       "      <th>3</th>\n",
       "      <td>female</td>\n",
       "      <td>0.815221</td>\n",
       "    </tr>\n",
       "    <tr>\n",
       "      <th>4</th>\n",
       "      <td>male</td>\n",
       "      <td>0.244103</td>\n",
       "    </tr>\n",
       "    <tr>\n",
       "      <th>5</th>\n",
       "      <td>male</td>\n",
       "      <td>0.244103</td>\n",
       "    </tr>\n",
       "    <tr>\n",
       "      <th>6</th>\n",
       "      <td>male</td>\n",
       "      <td>0.244103</td>\n",
       "    </tr>\n",
       "    <tr>\n",
       "      <th>7</th>\n",
       "      <td>male</td>\n",
       "      <td>0.244103</td>\n",
       "    </tr>\n",
       "    <tr>\n",
       "      <th>8</th>\n",
       "      <td>female</td>\n",
       "      <td>0.815221</td>\n",
       "    </tr>\n",
       "    <tr>\n",
       "      <th>9</th>\n",
       "      <td>female</td>\n",
       "      <td>0.815221</td>\n",
       "    </tr>\n",
       "    <tr>\n",
       "      <th>10</th>\n",
       "      <td>female</td>\n",
       "      <td>0.815221</td>\n",
       "    </tr>\n",
       "    <tr>\n",
       "      <th>11</th>\n",
       "      <td>female</td>\n",
       "      <td>0.815221</td>\n",
       "    </tr>\n",
       "    <tr>\n",
       "      <th>12</th>\n",
       "      <td>male</td>\n",
       "      <td>0.244103</td>\n",
       "    </tr>\n",
       "    <tr>\n",
       "      <th>13</th>\n",
       "      <td>male</td>\n",
       "      <td>0.244103</td>\n",
       "    </tr>\n",
       "    <tr>\n",
       "      <th>14</th>\n",
       "      <td>female</td>\n",
       "      <td>0.815221</td>\n",
       "    </tr>\n",
       "  </tbody>\n",
       "</table>\n",
       "</div>"
      ],
      "text/plain": [
       "    Gender  Predictions\n",
       "0     male     0.244103\n",
       "1   female     0.815221\n",
       "2   female     0.815221\n",
       "3   female     0.815221\n",
       "4     male     0.244103\n",
       "5     male     0.244103\n",
       "6     male     0.244103\n",
       "7     male     0.244103\n",
       "8   female     0.815221\n",
       "9   female     0.815221\n",
       "10  female     0.815221\n",
       "11  female     0.815221\n",
       "12    male     0.244103\n",
       "13    male     0.244103\n",
       "14  female     0.815221"
      ]
     },
     "execution_count": 4,
     "metadata": {},
     "output_type": "execute_result"
    }
   ],
   "source": [
    "test = test_data[\"Sex\"].map({ \"male\": 0, \"female\": 1})\n",
    "predictions = survival_prediction_model.predict(test)\n",
    "\n",
    "results = pd.DataFrame()\n",
    "results[\"Gender\"] = test_data[\"Sex\"]\n",
    "results[\"Predictions\"] = predictions\n",
    "\n",
    "results.head(15)"
   ]
  }
 ],
 "metadata": {
  "kaggle": {
   "accelerator": "none",
   "dataSources": [
    {
     "datasetId": 4932468,
     "sourceId": 8302744,
     "sourceType": "datasetVersion"
    }
   ],
   "dockerImageVersionId": 30698,
   "isGpuEnabled": false,
   "isInternetEnabled": false,
   "language": "python",
   "sourceType": "notebook"
  },
  "kernelspec": {
   "display_name": "Python 3",
   "language": "python",
   "name": "python3"
  },
  "language_info": {
   "codemirror_mode": {
    "name": "ipython",
    "version": 3
   },
   "file_extension": ".py",
   "mimetype": "text/x-python",
   "name": "python",
   "nbconvert_exporter": "python",
   "pygments_lexer": "ipython3",
   "version": "3.10.13"
  },
  "papermill": {
   "default_parameters": {},
   "duration": 26.323571,
   "end_time": "2024-05-03T17:59:05.528519",
   "environment_variables": {},
   "exception": null,
   "input_path": "__notebook__.ipynb",
   "output_path": "__notebook__.ipynb",
   "parameters": {},
   "start_time": "2024-05-03T17:58:39.204948",
   "version": "2.5.0"
  }
 },
 "nbformat": 4,
 "nbformat_minor": 5
}
